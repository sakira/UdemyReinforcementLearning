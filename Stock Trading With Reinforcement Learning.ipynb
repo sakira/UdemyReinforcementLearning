{
 "cells": [
  {
   "cell_type": "code",
   "execution_count": null,
   "metadata": {},
   "outputs": [],
   "source": []
  },
  {
   "cell_type": "code",
   "execution_count": null,
   "metadata": {},
   "outputs": [],
   "source": []
  },
  {
   "cell_type": "code",
   "execution_count": null,
   "metadata": {},
   "outputs": [],
   "source": []
  },
  {
   "cell_type": "markdown",
   "metadata": {},
   "source": [
    "## Play one episode function"
   ]
  },
  {
   "cell_type": "code",
   "execution_count": null,
   "metadata": {},
   "outputs": [],
   "source": [
    "def play_one_episode(agent, env):\n",
    "    # reset the environment to get to the intial state\n",
    "    s = env.reset()\n",
    "    s = scaler.transform(s)\n",
    "    done = False # end of the game\n",
    "    while not done:\n",
    "        # choose an action\n",
    "        a = agent.get_action(s)\n",
    "        # perform the action to get to the next state, reward\n",
    "        next_s, r, done, info = env.step(a)\n",
    "        if train_mode: # check the script is in train_mode\n",
    "            agent.train(s, a, r, next_s, done)\n",
    "        # update the state\n",
    "        s = next_s\n",
    "        s = scaler.transform(s) # normalize\n",
    "        \n",
    "    return info['portfolio_val']"
   ]
  },
  {
   "cell_type": "markdown",
   "metadata": {},
   "source": [
    "## Using the Environment"
   ]
  },
  {
   "cell_type": "code",
   "execution_count": null,
   "metadata": {},
   "outputs": [],
   "source": [
    "# Create an instance of the environment\n",
    "env = Env()\n",
    "# Create an instance of the agent\n",
    "agent = Agent()\n",
    "# Initialize the portfolio values\n",
    "portfolio_values = []\n"
   ]
  },
  {
   "cell_type": "code",
   "execution_count": null,
   "metadata": {},
   "outputs": [],
   "source": [
    "# loop for going through one episode\n",
    "for _ in range(num_episodes):\n",
    "    val = play_one_episode(agent, env)\n",
    "    porfolio_values.append(val)"
   ]
  },
  {
   "cell_type": "code",
   "execution_count": null,
   "metadata": {},
   "outputs": [],
   "source": [
    "# plot the portfolio values\n",
    "%matplotlib inline\n",
    "import matplotlib.pyplot as plt\n",
    "\n",
    "\n",
    "plt.plot(portfolio_values)\n",
    "plt.show()"
   ]
  }
 ],
 "metadata": {
  "kernelspec": {
   "display_name": "Python 3",
   "language": "python",
   "name": "python3"
  },
  "language_info": {
   "codemirror_mode": {
    "name": "ipython",
    "version": 3
   },
   "file_extension": ".py",
   "mimetype": "text/x-python",
   "name": "python",
   "nbconvert_exporter": "python",
   "pygments_lexer": "ipython3",
   "version": "3.7.3"
  }
 },
 "nbformat": 4,
 "nbformat_minor": 2
}
